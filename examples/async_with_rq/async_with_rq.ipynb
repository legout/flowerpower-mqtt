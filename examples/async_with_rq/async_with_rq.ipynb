{
 "cells": [
  {
   "cell_type": "markdown",
   "metadata": {},
   "source": [
    "# Asynchronous Processing with RQ Job Queue\n",
    "\n",
    "This notebook demonstrates how to use the FlowerPower MQTT Plugin with RQ (Redis Queue) for background pipeline execution, enabling scalable message processing.\n",
    "\n",
    "## Overview\n",
    "\n",
    "This example shows how to:\n",
    "- Enable RQ job queue for background processing\n",
    "- Use different execution modes (sync, async, mixed)\n",
    "- Subscribe to topics with various QoS levels\n",
    "- Monitor processing statistics\n",
    "- Handle bulk subscriptions\n",
    "\n",
    "## Prerequisites\n",
    "\n",
    "Make sure you have:\n",
    "- MQTT broker running\n",
    "- Redis server running\n",
    "- RQ worker running: `rq worker mqtt_pipelines --url redis://localhost:6379`\n",
    "- FlowerPower project set up\n",
    "- Required Python packages installed"
   ]
  },
  {
   "cell_type": "markdown",
   "metadata": {},
   "source": [
    "## Step 1: Import Required Libraries\n",
    "\n",
    "Import the necessary libraries for MQTT plugin with job queue support."
   ]
  },
  {
   "cell_type": "code",
   "execution_count": null,
   "metadata": {},
   "outputs": [],
   "source": [
    "import asyncio\n",
    "import logging\n",
    "from flowerpower_mqtt import MQTTPlugin\n",
    "\n",
    "# Configure logging\n",
    "logging.basicConfig(level=logging.INFO)\n",
    "logger = logging.getLogger(__name__)"
   ]
  },
  {
   "cell_type": "markdown",
   "metadata": {},
   "source": [
    "## Step 2: Create MQTT Plugin with Job Queue\n",
    "\n",
    "Create an MQTTPlugin instance with RQ job queue enabled for background processing."
   ]
  },
  {
   "cell_type": "code",
   "execution_count": null,
   "metadata": {},
   "outputs": [],
   "source": [
    "# Create plugin with job queue enabled\n",
    "mqtt = MQTTPlugin(\n",
    "    broker=\"localhost\",  # Change to your MQTT broker\n",
    "    port=1883,\n",
    "    base_dir=\".\",  # FlowerPower project directory\n",
    "    use_job_queue=True,  # Enable background processing\n",
    "    redis_url=\"redis://localhost:6379\",  # Redis for job queue\n",
    "    client_id=\"flowerpower_async_example\"\n",
    ")\n",
    "\n",
    "print(\"MQTT Plugin with job queue created!\")"
   ]
  },
  {
   "cell_type": "markdown",
   "metadata": {},
   "source": [
    "## Step 3: Connect to MQTT Broker\n",
    "\n",
    "Establish connection to the MQTT broker."
   ]
  },
  {
   "cell_type": "code",
   "execution_count": null,
   "metadata": {},
   "outputs": [],
   "source": [
    "# Connect to MQTT broker\n",
    "logger.info(\"Connecting to MQTT broker with job queue enabled...\")\n",
    "await mqtt.connect()\n",
    "logger.info(\"Connected successfully!\")"
   ]
  },
  {
   "cell_type": "markdown",
   "metadata": {},
   "source": [
    "## Step 4: Subscribe with Different Execution Modes\n",
    "\n",
    "Subscribe to topics with different execution modes to demonstrate various processing strategies."
   ]
  },
  {
   "cell_type": "code",
   "execution_count": null,
   "metadata": {},
   "outputs": [],
   "source": [
    "# High-volume sensor data: process asynchronously\n",
    "await mqtt.subscribe(\n",
    "    topic=\"sensors/+/data\", \n",
    "    pipeline_name=\"sensor_data_processor\",\n",
    "    qos=1,\n",
    "    execution_mode=\"async\"  # Background processing\n",
    ")\n",
    "logger.info(\"Subscribed to sensor data topic (async mode)\")\n",
    "\n",
    "# Critical alerts: process synchronously\n",
    "await mqtt.subscribe(\n",
    "    topic=\"alerts/critical\", \n",
    "    pipeline_name=\"critical_alert_handler\",\n",
    "    qos=2,  # Highest QoS for critical data\n",
    "    execution_mode=\"sync\"  # Immediate processing\n",
    ")\n",
    "logger.info(\"Subscribed to critical alerts topic (sync mode)\")\n",
    "\n",
    "# Mixed mode: QoS-based routing\n",
    "await mqtt.subscribe(\n",
    "    topic=\"mixed/topic\",\n",
    "    pipeline_name=\"mixed_processor\",\n",
    "    qos=1,\n",
    "    execution_mode=\"mixed\"  # QoS determines processing\n",
    ")\n",
    "logger.info(\"Subscribed to mixed topic (mixed mode)\")"
   ]
  },
  {
   "cell_type": "markdown",
   "metadata": {},
   "source": [
    "## Step 5: Bulk Subscription Example\n",
    "\n",
    "Demonstrate subscribing to multiple topics at once using bulk subscription."
   ]
  },
  {
   "cell_type": "code",
   "execution_count": null,
   "metadata": {},
   "outputs": [],
   "source": [
    "# Bulk subscription for factory monitoring\n",
    "bulk_subscriptions = [\n",
    "    {\n",
    "        \"topic\": \"factory/+/temperature\",\n",
    "        \"pipeline\": \"factory_temp_monitor\",\n",
    "        \"qos\": 1,\n",
    "        \"execution_mode\": \"async\"\n",
    "    },\n",
    "    {\n",
    "        \"topic\": \"factory/+/pressure\",\n",
    "        \"pipeline\": \"factory_pressure_monitor\", \n",
    "        \"qos\": 1,\n",
    "        \"execution_mode\": \"async\"\n",
    "    }\n",
    "]\n",
    "\n",
    "await mqtt.subscribe_bulk(bulk_subscriptions)\n",
    "logger.info(f\"Bulk subscribed to {len(bulk_subscriptions)} factory topics\")"
   ]
  },
  {
   "cell_type": "markdown",
   "metadata": {},
   "source": [
    "## Step 6: Start Background Listener\n",
    "\n",
    "Start the MQTT listener in background mode to continuously process messages."
   ]
  },
  {
   "cell_type": "code",
   "execution_count": null,
   "metadata": {},
   "outputs": [],
   "source": [
    "# Start listener in background\n",
    "logger.info(\"Starting MQTT listener in background...\")\n",
    "await mqtt.start_listener(background=True)\n",
    "logger.info(\"Background listener started!\")"
   ]
  },
  {
   "cell_type": "markdown",
   "metadata": {},
   "source": [
    "## Step 7: Monitor Processing Statistics\n",
    "\n",
    "Monitor the processing statistics to see how messages are being handled."
   ]
  },
  {
   "cell_type": "code",
   "execution_count": null,
   "metadata": {},
   "outputs": [],
   "source": [
    "# Monitor statistics for 60 seconds\n",
    "logger.info(\"Monitoring for 60 seconds. Press Ctrl+C to stop early...\")\n",
    "for i in range(60):\n",
    "    await asyncio.sleep(1)\n",
    "    \n",
    "    if i % 10 == 0:  # Print stats every 10 seconds\n",
    "        stats = mqtt.get_statistics()\n",
    "        logger.info(\n",
    "            f\"Stats - Messages: {stats.get('message_count', 0)}, \"\n",
    "            f\"Pipelines: {stats.get('pipeline_count', 0)}, \"\n",
    "            f\"Errors: {stats.get('error_count', 0)}\"\n",
    "        )"
   ]
  },
  {
   "cell_type": "markdown",
   "metadata": {},
   "source": [
    "## Step 8: Clean Shutdown\n",
    "\n",
    "Properly stop the listener and disconnect from the broker."
   ]
  },
  {
   "cell_type": "code",
   "execution_count": null,
   "metadata": {},
   "outputs": [],
   "source": [
    "# Clean shutdown\n",
    "logger.info(\"Stopping MQTT plugin...\")\n",
    "await mqtt.stop_listener(timeout=5.0)\n",
    "await mqtt.disconnect()\n",
    "logger.info(\"MQTT plugin stopped\")"
   ]
  },
  {
   "cell_type": "markdown",
   "metadata": {},
   "source": [
    "## Complete Example\n",
    "\n",
    "Here's the complete example in a single executable cell:"
   ]
  },
  {
   "cell_type": "code",
   "execution_count": null,
   "metadata": {},
   "outputs": [],
   "source": [
    "import asyncio\n",
    "import logging\n",
    "from flowerpower_mqtt import MQTTPlugin\n",
    "\n",
    "# Configure logging\n",
    "logging.basicConfig(level=logging.INFO)\n",
    "logger = logging.getLogger(__name__)\n",
    "\n",
    "async def main():\n",
    "    \"\"\"Asynchronous MQTT plugin usage with RQ job queue.\"\"\"\n",
    "    \n",
    "    # Create plugin with job queue enabled\n",
    "    mqtt = MQTTPlugin(\n",
    "        broker=\"localhost\",  # Change to your MQTT broker\n",
    "        port=1883,\n",
    "        base_dir=\".\",  # FlowerPower project directory\n",
    "        use_job_queue=True,\n",
    "        redis_url=\"redis://localhost:6379\",\n",
    "        client_id=\"flowerpower_async_example\"\n",
    "    )\n",
    "    \n",
    "    try:\n",
    "        # Connect to MQTT broker\n",
    "        logger.info(\"Connecting to MQTT broker with job queue enabled...\")\n",
    "        await mqtt.connect()\n",
    "        \n",
    "        # Subscribe with different execution modes\n",
    "        \n",
    "        # High-volume data: process asynchronously\n",
    "        await mqtt.subscribe(\n",
    "            topic=\"sensors/+/data\", \n",
    "            pipeline_name=\"sensor_data_processor\",\n",
    "            qos=1,\n",
    "            execution_mode=\"async\"\n",
    "        )\n",
    "        \n",
    "        # Critical alerts: process synchronously\n",
    "        await mqtt.subscribe(\n",
    "            topic=\"alerts/critical\", \n",
    "            pipeline_name=\"critical_alert_handler\",\n",
    "            qos=2,\n",
    "            execution_mode=\"sync\"\n",
    "        )\n",
    "        \n",
    "        # Mixed mode: QoS-based routing\n",
    "        await mqtt.subscribe(\n",
    "            topic=\"mixed/topic\",\n",
    "            pipeline_name=\"mixed_processor\",\n",
    "            qos=1,\n",
    "            execution_mode=\"mixed\"\n",
    "        )\n",
    "        \n",
    "        # Bulk subscription example\n",
    "        bulk_subscriptions = [\n",
    "            {\n",
    "                \"topic\": \"factory/+/temperature\",\n",
    "                \"pipeline\": \"factory_temp_monitor\",\n",
    "                \"qos\": 1,\n",
    "                \"execution_mode\": \"async\"\n",
    "            },\n",
    "            {\n",
    "                \"topic\": \"factory/+/pressure\",\n",
    "                \"pipeline\": \"factory_pressure_monitor\", \n",
    "                \"qos\": 1,\n",
    "                \"execution_mode\": \"async\"\n",
    "            }\n",
    "        ]\n",
    "        \n",
    "        await mqtt.subscribe_bulk(bulk_subscriptions)\n",
    "        \n",
    "        # Start listener in background\n",
    "        logger.info(\"Starting MQTT listener in background...\")\n",
    "        await mqtt.start_listener(background=True)\n",
    "        \n",
    "        # Monitor statistics\n",
    "        logger.info(\"Monitoring for 60 seconds. Press Ctrl+C to stop early...\")\n",
    "        for i in range(60):\n",
    "            await asyncio.sleep(1)\n",
    "            \n",
    "            if i % 10 == 0:  # Print stats every 10 seconds\n",
    "                stats = mqtt.get_statistics()\n",
    "                logger.info(\n",
    "                    f\"Stats - Messages: {stats.get('message_count', 0)}, \"\n",
    "                    f\"Pipelines: {stats.get('pipeline_count', 0)}, \"\n",
    "                    f\"Errors: {stats.get('error_count', 0)}\"\n",
    "                )\n",
    "        \n",
    "    except KeyboardInterrupt:\n",
    "        logger.info(\"Received keyboard interrupt\")\n",
    "    except Exception as e:\n",
    "        logger.error(f\"Error: {e}\")\n",
    "    finally:\n",
    "        # Clean shutdown\n",
    "        logger.info(\"Stopping MQTT plugin...\")\n",
    "        await mqtt.stop_listener(timeout=5.0)\n",
    "        await mqtt.disconnect()\n",
    "        logger.info(\"MQTT plugin stopped\")\n",
    "\n",
    "# Uncomment the line below to run the complete example\n",
    "# await main()"
   ]
  },
  {
   "cell_type": "markdown",
   "metadata": {},
   "source": [
    "## Important Notes\n",
    "\n",
    "- Make sure Redis is running and an RQ worker is started: `rq worker mqtt_pipelines --url redis://localhost:6379`\n",
    "- The job queue allows for scalable background processing of MQTT messages\n",
    "- Different execution modes provide flexibility for various use cases\n",
    "- Bulk subscriptions are efficient for setting up multiple related topics"
   ]
  }
 ],
 "metadata": {
  "kernelspec": {
   "display_name": "Python 3",
   "language": "python",
   "name": "python3"
  },
  "language_info": {
   "codemirror_mode": {
    "name": "ipython",
    "version": 3
   },
   "file_extension": ".py",
   "mimetype": "text/x-python",
   "name": "python",
   "nbconvert_exporter": "python",
   "pygments_lexer": "ipython3",
   "version": "3.11.0"
  }
 },
 "nbformat": 4,
 "nbformat_minor": 4
}