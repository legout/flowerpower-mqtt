{
 "cells": [
  {
   "cell_type": "markdown",
   "metadata": {},
   "source": [
    "# Basic Usage Example for FlowerPower MQTT Plugin\n",
    "\n",
    "This notebook demonstrates simple synchronous usage where MQTT messages trigger immediate pipeline execution.\n",
    "\n",
    "## Overview\n",
    "\n",
    "This example shows how to:\n",
    "- Connect to an MQTT broker\n",
    "- Subscribe to MQTT topics\n",
    "- Process messages synchronously\n",
    "- Handle clean shutdown\n",
    "\n",
    "## Prerequisites\n",
    "\n",
    "Make sure you have:\n",
    "- MQTT broker running (we'll use Docker)\n",
    "- FlowerPower project set up\n",
    "- Required Python packages installed"
   ]
  },
  {
   "cell_type": "markdown",
   "metadata": {},
   "source": [
    "## Step 1: Import Required Libraries\n",
    "\n",
    "First, let's import the necessary libraries for our MQTT plugin."
   ]
  },
  {
   "cell_type": "code",
   "execution_count": null,
   "metadata": {},
   "outputs": [],
   "source": [
    "import asyncio\n",
    "import logging\n",
    "from flowerpower_mqtt import MQTTPlugin\n",
    "\n",
    "# Configure logging to see what's happening\n",
    "logging.basicConfig(level=logging.INFO)\n",
    "logger = logging.getLogger(__name__)"
   ]
  },
  {
   "cell_type": "markdown",
   "metadata": {},
   "source": [
    "## Step 2: Create MQTT Plugin Instance\n",
    "\n",
    "Now we'll create an instance of the MQTTPlugin with basic configuration."
   ]
  },
  {
   "cell_type": "code",
   "execution_count": null,
   "metadata": {},
   "outputs": [],
   "source": [
    "# Create plugin instance\n",
    "mqtt = MQTTPlugin(\n",
    "    broker=\"localhost\",  # Change to your MQTT broker address\n",
    "    port=1883,\n",
    "    base_dir=\".\",  # FlowerPower project directory\n",
    "    client_id=\"flowerpower_basic_example\"\n",
    ")\n",
    "\n",
    "print(\"MQTT Plugin created successfully!\")"
   ]
  },
  {
   "cell_type": "markdown",
   "metadata": {},
   "source": [
    "## Step 3: Connect to MQTT Broker\n",
    "\n",
    "Establish connection to the MQTT broker."
   ]
  },
  {
   "cell_type": "code",
   "execution_count": null,
   "metadata": {},
   "outputs": [],
   "source": [
    "# Connect to MQTT broker\n",
    "logger.info(\"Connecting to MQTT broker...\")\n",
    "await mqtt.connect()\n",
    "logger.info(\"Connected successfully!\")"
   ]
  },
  {
   "cell_type": "markdown",
   "metadata": {},
   "source": [
    "## Step 4: Subscribe to Topics\n",
    "\n",
    "Subscribe to MQTT topics that will trigger pipeline execution."
   ]
  },
  {
   "cell_type": "code",
   "execution_count": null,
   "metadata": {},
   "outputs": [],
   "source": [
    "# Subscribe to temperature sensor topic\n",
    "await mqtt.subscribe(\n",
    "    topic=\"sensors/temperature\", \n",
    "    pipeline_name=\"temperature_processor\",\n",
    "    qos=1  # At least once delivery\n",
    ")\n",
    "logger.info(\"Subscribed to temperature sensor topic\")\n",
    "\n",
    "# Subscribe to humidity sensor topic\n",
    "await mqtt.subscribe(\n",
    "    topic=\"sensors/humidity\",\n",
    "    pipeline_name=\"humidity_processor\", \n",
    "    qos=0  # Fire and forget\n",
    ")\n",
    "logger.info(\"Subscribed to humidity sensor topic\")"
   ]
  },
  {
   "cell_type": "markdown",
   "metadata": {},
   "source": [
    "## Step 5: Start Listening for Messages\n",
    "\n",
    "Start the MQTT listener to begin processing messages. This will run until interrupted."
   ]
  },
  {
   "cell_type": "code",
   "execution_count": null,
   "metadata": {},
   "outputs": [],
   "source": [
    "# Start listening for messages\n",
    "logger.info(\"Starting MQTT listener. Press Ctrl+C to stop...\")\n",
    "await mqtt.start_listener(background=False)"
   ]
  },
  {
   "cell_type": "markdown",
   "metadata": {},
   "source": [
    "## Step 6: Clean Shutdown\n",
    "\n",
    "When you're done, make sure to disconnect cleanly."
   ]
  },
  {
   "cell_type": "code",
   "execution_count": null,
   "metadata": {},
   "outputs": [],
   "source": [
    "# Clean shutdown\n",
    "logger.info(\"Stopping MQTT plugin...\")\n",
    "await mqtt.disconnect()\n",
    "logger.info(\"MQTT plugin stopped\")"
   ]
  },
  {
   "cell_type": "markdown",
   "metadata": {},
   "source": [
    "## Complete Example\n",
    "\n",
    "Here's the complete example in a single executable cell:"
   ]
  },
  {
   "cell_type": "code",
   "execution_count": null,
   "metadata": {},
   "outputs": [],
   "source": [
    "import asyncio\n",
    "import logging\n",
    "from flowerpower_mqtt import MQTTPlugin\n",
    "\n",
    "# Configure logging\n",
    "logging.basicConfig(level=logging.INFO)\n",
    "logger = logging.getLogger(__name__)\n",
    "\n",
    "async def main():\n",
    "    \"\"\"Basic synchronous MQTT plugin usage.\"\"\"\n",
    "    \n",
    "    # Create plugin instance\n",
    "    mqtt = MQTTPlugin(\n",
    "        broker=\"localhost\",  # Change to your MQTT broker\n",
    "        port=1883,\n",
    "        base_dir=\".\",  # FlowerPower project directory\n",
    "        client_id=\"flowerpower_basic_example\"\n",
    "    )\n",
    "    \n",
    "    try:\n",
    "        # Connect to MQTT broker\n",
    "        logger.info(\"Connecting to MQTT broker...\")\n",
    "        await mqtt.connect()\n",
    "        \n",
    "        # Subscribe to topics\n",
    "        await mqtt.subscribe(\n",
    "            topic=\"sensors/temperature\", \n",
    "            pipeline_name=\"temperature_processor\",\n",
    "            qos=1\n",
    "        )\n",
    "        \n",
    "        await mqtt.subscribe(\n",
    "            topic=\"sensors/humidity\",\n",
    "            pipeline_name=\"humidity_processor\", \n",
    "            qos=0\n",
    "        )\n",
    "        \n",
    "        # Start listening for messages (blocks until Ctrl+C)\n",
    "        logger.info(\"Starting MQTT listener. Press Ctrl+C to stop...\")\n",
    "        await mqtt.start_listener(background=False)\n",
    "        \n",
    "    except KeyboardInterrupt:\n",
    "        logger.info(\"Received keyboard interrupt\")\n",
    "    except Exception as e:\n",
    "        logger.error(f\"Error: {e}\")\n",
    "    finally:\n",
    "        # Clean shutdown\n",
    "        logger.info(\"Stopping MQTT plugin...\")\n",
    "        await mqtt.disconnect()\n",
    "        logger.info(\"MQTT plugin stopped\")\n",
    "\n",
    "# Uncomment the line below to run the complete example\n",
    "# await main()"
   ]
  }
 ],
 "metadata": {
  "kernelspec": {
   "display_name": "Python 3",
   "language": "python",
   "name": "python3"
  },
  "language_info": {
   "codemirror_mode": {
    "name": "ipython",
    "version": 3
   },
   "file_extension": ".py",
   "mimetype": "text/x-python",
   "name": "python",
   "nbconvert_exporter": "python",
   "pygments_lexer": "ipython3",
   "version": "3.11.0"
  }
 },
 "nbformat": 4,
 "nbformat_minor": 4
}