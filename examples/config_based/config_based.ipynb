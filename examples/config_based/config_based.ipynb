{
 "cells": [
  {
   "cell_type": "markdown",
   "metadata": {},
   "source": [
    "# Configuration-Based Example\n",
    "\n",
    "This notebook demonstrates how to use YAML configuration files for managing complex MQTT setups with the FlowerPower MQTT Plugin.\n",
    "\n",
    "## Overview\n",
    "\n",
    "This example shows how to:\n",
    "- Create configuration files programmatically\n",
    "- Load plugins from configuration files\n",
    "- Manage complex subscription setups\n",
    "- Save runtime configuration changes\n",
    "\n",
    "## Prerequisites\n",
    "\n",
    "Make sure you have:\n",
    "- MQTT broker running\n",
    "- Redis server running (for job queue)\n",
    "- FlowerPower project set up\n",
    "- Required Python packages installed"
   ]
  },
  {
   "cell_type": "markdown",
   "metadata": {},
   "source": [
    "## Step 1: Import Required Libraries\n",
    "\n",
    "Import the necessary libraries for configuration-based MQTT setup."
   ]
  },
  {
   "cell_type": "code",
   "execution_count": null,
   "metadata": {},
   "outputs": [],
   "source": [
    "import asyncio\n",
    "import logging\n",
    "from pathlib import Path\n",
    "from flowerpower_mqtt import MQTTPlugin, FlowerPowerMQTTConfig\n",
    "\n",
    "# Configure logging\n",
    "logging.basicConfig(level=logging.INFO)\n",
    "logger = logging.getLogger(__name__)"
   ]
  },
  {
   "cell_type": "markdown",
   "metadata": {},
   "source": [
    "## Step 2: Create Configuration Programmatically\n",
    "\n",
    "Create a comprehensive configuration file with MQTT settings, job queue configuration, and predefined subscriptions."
   ]
  },
  {
   "cell_type": "code",
   "execution_count": null,
   "metadata": {},
   "outputs": [],
   "source": [
    "def create_example_config():\n",
    "    \"\"\"Create an example configuration file.\"\"\"\n",
    "    \n",
    "    config = FlowerPowerMQTTConfig()\n",
    "    \n",
    "    # MQTT broker settings\n",
    "    config.mqtt.broker = \"localhost\"\n",
    "    config.mqtt.port = 1883\n",
    "    config.mqtt.keepalive = 60\n",
    "    config.mqtt.client_id = \"flowerpower_config_example\"\n",
    "    \n",
    "    # Job queue settings\n",
    "    config.job_queue.enabled = True\n",
    "    config.job_queue.redis_url = \"redis://localhost:6379\"\n",
    "    config.job_queue.queue_name = \"mqtt_pipelines\"\n",
    "    config.job_queue.worker_count = 4\n",
    "    \n",
    "    # Base directory and logging\n",
    "    config.base_dir = \".\"\n",
    "    config.log_level = \"INFO\"\n",
    "    \n",
    "    # Predefined subscriptions\n",
    "    from flowerpower_mqtt.config import SubscriptionConfig\n",
    "    \n",
    "    config.subscriptions = [\n",
    "        SubscriptionConfig(\n",
    "            topic=\"sensors/+/temperature\",\n",
    "            pipeline=\"temperature_processor\",\n",
    "            qos=1,\n",
    "            execution_mode=\"async\"\n",
    "        ),\n",
    "        SubscriptionConfig(\n",
    "            topic=\"sensors/+/humidity\", \n",
    "            pipeline=\"humidity_processor\",\n",
    "            qos=1,\n",
    "            execution_mode=\"async\"\n",
    "        ),\n",
    "        SubscriptionConfig(\n",
    "            topic=\"alerts/critical\",\n",
    "            pipeline=\"critical_alert_handler\",\n",
    "            qos=2,\n",
    "            execution_mode=\"sync\"\n",
    "        ),\n",
    "        SubscriptionConfig(\n",
    "            topic=\"logs/+/error\",\n",
    "            pipeline=\"error_log_processor\", \n",
    "            qos=0,\n",
    "            execution_mode=\"async\"\n",
    "        )\n",
    "    ]\n",
    "    \n",
    "    # Save configuration\n",
    "    config_file = Path(\"example_mqtt_config.yml\")\n",
    "    config.to_yaml(config_file)\n",
    "    logger.info(f\"Created example configuration: {config_file}\")\n",
    "    \n",
    "    return config_file\n",
    "\n",
    "# Create the configuration file\n",
    "config_file = create_example_config()\n",
    "print(f\"Configuration file created: {config_file}\")"
   ]
  },
  {
   "cell_type": "markdown",
   "metadata": {},
   "source": [
    "## Step 3: Load Plugin from Configuration\n",
    "\n",
    "Load the MQTT plugin using the configuration file we just created."
   ]
  },
  {
   "cell_type": "code",
   "execution_count": null,
   "metadata": {},
   "outputs": [],
   "source": [
    "# Load plugin from configuration\n",
    "logger.info(f\"Loading plugin from configuration: {config_file}\")\n",
    "mqtt = MQTTPlugin.from_config(config_file)\n",
    "logger.info(\"Plugin loaded successfully from configuration!\")"
   ]
  },
  {
   "cell_type": "markdown",
   "metadata": {},
   "source": [
    "## Step 4: Connect to MQTT Broker\n",
    "\n",
    "Connect to the MQTT broker using the loaded configuration."
   ]
  },
  {
   "cell_type": "code",
   "execution_count": null,
   "metadata": {},
   "outputs": [],
   "source": [
    "# Connect to MQTT broker\n",
    "logger.info(\"Connecting to MQTT broker...\")\n",
    "await mqtt.connect()\n",
    "logger.info(\"Connected successfully!\")"
   ]
  },
  {
   "cell_type": "markdown",
   "metadata": {},
   "source": [
    "## Step 5: Display Loaded Subscriptions\n",
    "\n",
    "Show the subscriptions that were loaded from the configuration file."
   ]
  },
  {
   "cell_type": "code",
   "execution_count": null,
   "metadata": {},
   "outputs": [],
   "source": [
    "# Display loaded subscriptions\n",
    "subscriptions = mqtt.get_subscriptions()\n",
    "logger.info(f\"Loaded {len(subscriptions)} subscriptions from config:\")\n",
    "for sub in subscriptions:\n",
    "    logger.info(\n",
    "        f\"  - {sub['topic']} -> {sub['pipeline']} \"\n",
    "        f\"(QoS {sub['qos']}, {sub['execution_mode']} mode)\"\n",
    "    )"
   ]
  },
  {
   "cell_type": "markdown",
   "metadata": {},
   "source": [
    "## Step 6: Add Runtime Subscriptions\n",
    "\n",
    "Demonstrate adding additional subscriptions programmatically at runtime."
   ]
  },
  {
   "cell_type": "code",
   "execution_count": null,
   "metadata": {},
   "outputs": [],
   "source": [
    "# Add a runtime subscription\n",
    "await mqtt.subscribe(\n",
    "    topic=\"runtime/+/data\",\n",
    "    pipeline_name=\"runtime_processor\",\n",
    "    qos=1,\n",
    "    execution_mode=\"async\"\n",
    ")\n",
    "logger.info(\"Added runtime subscription\")"
   ]
  },
  {
   "cell_type": "markdown",
   "metadata": {},
   "source": [
    "## Step 7: Start MQTT Listener\n",
    "\n",
    "Start listening for MQTT messages using the configured subscriptions."
   ]
  },
  {
   "cell_type": "code",
   "execution_count": null,
   "metadata": {},
   "outputs": [],
   "source": [
    "# Start listener\n",
    "logger.info(\"Starting MQTT listener. Press Ctrl+C to stop...\")\n",
    "await mqtt.start_listener(background=False)"
   ]
  },
  {
   "cell_type": "markdown",
   "metadata": {},
   "source": [
    "## Step 8: Save Final Configuration\n",
    "\n",
    "Save the final configuration including any runtime changes."
   ]
  },
  {
   "cell_type": "code",
   "execution_count": null,
   "metadata": {},
   "outputs": [],
   "source": [
    "# Save final configuration (including runtime additions)\n",
    "final_config_file = Path(\"final_mqtt_config.yml\") \n",
    "mqtt.save_config(final_config_file)\n",
    "logger.info(f\"Saved final configuration: {final_config_file}\")"
   ]
  },
  {
   "cell_type": "markdown",
   "metadata": {},
   "source": [
    "## Step 9: Clean Shutdown\n",
    "\n",
    "Properly disconnect and clean up resources."
   ]
  },
  {
   "cell_type": "code",
   "execution_count": null,
   "metadata": {},
   "outputs": [],
   "source": [
    "# Clean shutdown\n",
    "logger.info(\"Stopping MQTT plugin...\")\n",
    "await mqtt.disconnect()\n",
    "logger.info(\"MQTT plugin stopped\")\n",
    "\n",
    "# Cleanup example config file\n",
    "if config_file.exists():\n",
    "    config_file.unlink()\n",
    "    logger.info(f\"Cleaned up example config: {config_file}\")"
   ]
  },
  {
   "cell_type": "markdown",
   "metadata": {},
   "source": [
    "## Complete Example\n",
    "\n",
    "Here's the complete example in a single executable cell:"
   ]
  },
  {
   "cell_type": "code",
   "execution_count": null,
   "metadata": {},
   "outputs": [],
   "source": [
    "import asyncio\n",
    "import logging\n",
    "from pathlib import Path\n",
    "from flowerpower_mqtt import MQTTPlugin, FlowerPowerMQTTConfig\n",
    "\n",
    "# Configure logging\n",
    "logging.basicConfig(level=logging.INFO)\n",
    "logger = logging.getLogger(__name__)\n",
    "\n",
    "def create_example_config():\n",
    "    \"\"\"Create an example configuration file.\"\"\"\n",
    "    \n",
    "    config = FlowerPowerMQTTConfig()\n",
    "    \n",
    "    # MQTT broker settings\n",
    "    config.mqtt.broker = \"localhost\"\n",
    "    config.mqtt.port = 1883\n",
    "    config.mqtt.keepalive = 60\n",
    "    config.mqtt.client_id = \"flowerpower_config_example\"\n",
    "    \n",
    "    # Job queue settings\n",
    "    config.job_queue.enabled = True\n",
    "    config.job_queue.redis_url = \"redis://localhost:6379\"\n",
    "    config.job_queue.queue_name = \"mqtt_pipelines\"\n",
    "    config.job_queue.worker_count = 4\n",
    "    \n",
    "    # Base directory\n",
    "    config.base_dir = \".\"\n",
    "    config.log_level = \"INFO\"\n",
    "    \n",
    "    # Predefined subscriptions\n",
    "    from flowerpower_mqtt.config import SubscriptionConfig\n",
    "    \n",
    "    config.subscriptions = [\n",
    "        SubscriptionConfig(\n",
    "            topic=\"sensors/+/temperature\",\n",
    "            pipeline=\"temperature_processor\",\n",
    "            qos=1,\n",
    "            execution_mode=\"async\"\n",
    "        ),\n",
    "        SubscriptionConfig(\n",
    "            topic=\"sensors/+/humidity\", \n",
    "            pipeline=\"humidity_processor\",\n",
    "            qos=1,\n",
    "            execution_mode=\"async\"\n",
    "        ),\n",
    "        SubscriptionConfig(\n",
    "            topic=\"alerts/critical\",\n",
    "            pipeline=\"critical_alert_handler\",\n",
    "            qos=2,\n",
    "            execution_mode=\"sync\"\n",
    "        ),\n",
    "        SubscriptionConfig(\n",
    "            topic=\"logs/+/error\",\n",
    "            pipeline=\"error_log_processor\", \n",
    "            qos=0,\n",
    "            execution_mode=\"async\"\n",
    "        )\n",
    "    ]\n",
    "    \n",
    "    # Save configuration\n",
    "    config_file = Path(\"example_mqtt_config.yml\")\n",
    "    config.to_yaml(config_file)\n",
    "    logger.info(f\"Created example configuration: {config_file}\")\n",
    "    \n",
    "    return config_file\n",
    "\n",
    "async def main():\n",
    "    \"\"\"Configuration-based MQTT plugin usage.\"\"\"\n",
    "    \n",
    "    # Create example configuration file\n",
    "    config_file = create_example_config()\n",
    "    \n",
    "    try:\n",
    "        # Load plugin from configuration\n",
    "        logger.info(f\"Loading plugin from configuration: {config_file}\")\n",
    "        mqtt = MQTTPlugin.from_config(config_file)\n",
    "        \n",
    "        # Connect to MQTT broker\n",
    "        logger.info(\"Connecting to MQTT broker...\")\n",
    "        await mqtt.connect()\n",
    "        \n",
    "        # Display loaded subscriptions\n",
    "        subscriptions = mqtt.get_subscriptions()\n",
    "        logger.info(f\"Loaded {len(subscriptions)} subscriptions from config:\")\n",
    "        for sub in subscriptions:\n",
    "            logger.info(\n",
    "                f\"  - {sub['topic']} -> {sub['pipeline']} \"\n",
    "                f\"(QoS {sub['qos']}, {sub['execution_mode']} mode)\"\n",
    "            )\n",
    "        \n",
    "        # You can still add more subscriptions programmatically\n",
    "        await mqtt.subscribe(\n",
    "            topic=\"runtime/+/data\",\n",
    "            pipeline_name=\"runtime_processor\",\n",
    "            qos=1,\n",
    "            execution_mode=\"async\"\n",
    "        )\n",
    "        \n",
    "        # Start listener\n",
    "        logger.info(\"Starting MQTT listener. Press Ctrl+C to stop...\")\n",
    "        await mqtt.start_listener(background=False)\n",
    "        \n",
    "    except KeyboardInterrupt:\n",
    "        logger.info(\"Received keyboard interrupt\")\n",
    "    except Exception as e:\n",
    "        logger.error(f\"Error: {e}\")\n",
    "    finally:\n",
    "        # Clean shutdown\n",
    "        logger.info(\"Stopping MQTT plugin...\")\n",
    "        if 'mqtt' in locals():\n",
    "            await mqtt.disconnect()\n",
    "            \n",
    "            # Save final configuration (including runtime additions)\n",
    "            final_config_file = Path(\"final_mqtt_config.yml\") \n",
    "            mqtt.save_config(final_config_file)\n",
    "            logger.info(f\"Saved final configuration: {final_config_file}\")\n",
    "        \n",
    "        # Cleanup example config file\n",
    "        if config_file.exists():\n",
    "            config_file.unlink()\n",
    "            logger.info(f\"Cleaned up example config: {config_file}\")\n",
    "            \n",
    "        logger.info(\"MQTT plugin stopped\")\n",
    "\n",
    "# Uncomment the line below to run the complete example\n",
    "# await main()"
   ]
  }
 ],
 "metadata": {
  "kernelspec": {
   "display_name": "Python 3",
   "language": "python",
   "name": "python3"
  },
  "language_info": {
   "codemirror_mode": {
    "name": "ipython",
    "version": 3
   },
   "file_extension": ".py",
   "mimetype": "text/x-python",
   "name": "python",
   "nbconvert_exporter": "python",
   "pygments_lexer": "ipython3",
   "version": "3.11.0"
  }
 },
 "nbformat": 4,
 "nbformat_minor": 4
}